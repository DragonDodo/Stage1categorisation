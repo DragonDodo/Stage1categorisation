{
 "cells": [
  {
   "cell_type": "code",
   "execution_count": 1,
   "metadata": {
    "scrolled": true
   },
   "outputs": [
    {
     "name": "stdout",
     "output_type": "stream",
     "text": [
      "Welcome to JupyROOT 6.12/06\n"
     ]
    },
    {
     "name": "stderr",
     "output_type": "stream",
     "text": [
      "/cvmfs/sft.cern.ch/lcg/views/LCG_93/x86_64-slc6-gcc62-opt/lib/python2.7/site-packages/sklearn/cross_validation.py:44: DeprecationWarning: This module was deprecated in version 0.18 in favor of the model_selection module into which all the refactored classes and functions are moved. Also note that the interface of the new CV iterators are different from that of this module. This module will be removed in 0.20.\n",
      "  \"This module will be removed in 0.20.\", DeprecationWarning)\n"
     ]
    }
   ],
   "source": [
    "#usual imports\n",
    "import numpy as np\n",
    "import ROOT as r\n",
    "import matplotlib.pyplot as plt\n",
    "from root_numpy import tree2array, testdata, list_branches\n",
    "import pandas as pd\n",
    "import time\n",
    "import xgboost as xg\n",
    "from sklearn.metrics import roc_auc_score, roc_curve\n",
    "\n",
    "trainFrac = 0.7\n",
    "validFrac = 0.1\n",
    "nClasses = 10"
   ]
  },
  {
   "cell_type": "code",
   "execution_count": 2,
   "metadata": {},
   "outputs": [
    {
     "name": "stderr",
     "output_type": "stream",
     "text": [
      "/cvmfs/sft.cern.ch/lcg/views/LCG_93/x86_64-slc6-gcc62-opt/lib/python2.7/site-packages/root_numpy/_tree.py:385: RuntimeWarning: ignoring duplicate branch named 'nvtx'\n",
      "  cache_size)\n"
     ]
    }
   ],
   "source": [
    "#get trees from files, put them in data frames\n",
    "procFileMap = {'ggh':'ggH.root', 'dipho':'Dipho.root', 'gjet':'GJet.root', 'qcd':'QCD.root' }\n",
    "theProcs = procFileMap.keys()\n",
    "\n",
    "trainDir = '../trainTrees'\n",
    "trainFrames = {}\n",
    "\n",
    "for proc,fn in procFileMap.iteritems():\n",
    "    trainFile   = r.TFile('%s/%s'%(trainDir,fn))\n",
    "    if 'ggh' in proc or 'vbf' in proc: trainTree = trainFile.Get('vbfTagDumper/trees/%s_125_13TeV_VBFDiJet'%proc)\n",
    "    else: trainTree = trainFile.Get('vbfTagDumper/trees/%s_13TeV_VBFDiJet'%proc)\n",
    "    trainFrames[proc] = pd.DataFrame( tree2array(trainTree) )\n",
    "    trainFrames[proc]['proc'] = proc"
   ]
  },
  {
   "cell_type": "code",
   "execution_count": 3,
   "metadata": {},
   "outputs": [],
   "source": [
    "#create one total frame\n",
    "trainList = []\n",
    "for proc in theProcs:\n",
    "    trainList.append(trainFrames[proc])\n",
    "trainTotal = pd.concat(trainList)"
   ]
  },
  {
   "cell_type": "code",
   "execution_count": 4,
   "metadata": {},
   "outputs": [
    {
     "name": "stdout",
     "output_type": "stream",
     "text": [
      "done lower mass cut\n",
      "done upper mass cut\n",
      "done first stage 1 cut\n",
      "done second stage 1 cut\n",
      "done third stage 1 cut\n",
      "done fourth and final stage 1 cut\n"
     ]
    }
   ],
   "source": [
    "#then filter out the events into only those with the phase space we are interested in\n",
    "#trainTotal[trainTotal.diphomva>-0.4]\n",
    "#print 'done dipho mva cut'\n",
    "trainTotal = trainTotal[trainTotal.CMS_hgg_mass>100.]\n",
    "print 'done lower mass cut'\n",
    "trainTotal = trainTotal[trainTotal.CMS_hgg_mass<180.]\n",
    "print 'done upper mass cut'\n",
    "trainTotal = trainTotal[trainTotal.stage1cat>-1.]\n",
    "print 'done first stage 1 cut'\n",
    "trainTotal = trainTotal[trainTotal.stage1cat<12.]\n",
    "print 'done second stage 1 cut'\n",
    "trainTotal = trainTotal[trainTotal.stage1cat!=1]\n",
    "print 'done third stage 1 cut'\n",
    "trainTotal = trainTotal[trainTotal.stage1cat!=2]\n",
    "print 'done fourth and final stage 1 cut'"
   ]
  },
  {
   "cell_type": "code",
   "execution_count": 5,
   "metadata": {},
   "outputs": [],
   "source": [
    "#add diphoton pt as a column\n",
    "def addPt(row):\n",
    "    return row['CMS_hgg_mass']*row['diphoptom']\n",
    "\n",
    "trainTotal['diphopt'] = trainTotal.apply(addPt, axis=1)"
   ]
  },
  {
   "cell_type": "code",
   "execution_count": 12,
   "metadata": {},
   "outputs": [
    {
     "name": "stdout",
     "output_type": "stream",
     "text": [
      "['leadmva', 'subleadmva', 'leadptom', 'subleadptom', 'leadeta', 'subleadeta', 'CosPhi', 'vtxprob', 'sigmarv', 'sigmawv', 'n_rec_jets', 'dijet_Mjj', 'dijet_leadEta', 'dijet_subleadEta', 'dijet_subsubleadEta', 'dijet_LeadJPt', 'dijet_SubJPt', 'dijet_leadPUMVA', 'dijet_subleadPUMVA', 'dijet_subsubleadPUMVA', 'dijet_leadDeltaPhi', 'dijet_subleadDeltaPhi', 'dijet_subsubleadDeltaPhi', 'dijet_leadDeltaEta', 'dijet_subleadDeltaEta', 'dijet_subsubleadDeltaEta', 'diphopt']\n"
     ]
    }
   ],
   "source": [
    "#define the different sets of variables used\n",
    "diphoVars  = ['leadmva','subleadmva','leadptom','subleadptom','leadeta','subleadeta',\n",
    "              'CosPhi','vtxprob','sigmarv','sigmawv']\n",
    "diphoPtVar = ['diphopt']\n",
    "jetVars    = ['n_rec_jets','dijet_Mjj','dijet_leadEta','dijet_subleadEta','dijet_subsubleadEta',\n",
    "              #'dijet_LeadJPt','dijet_SubJPt','dijet_SubsubJPt',\n",
    "              'dijet_LeadJPt','dijet_SubJPt', #forgot to add 3rd jet pT to variable list\n",
    "              'dijet_leadPUMVA','dijet_subleadPUMVA','dijet_subsubleadPUMVA',\n",
    "              'dijet_leadDeltaPhi','dijet_subleadDeltaPhi','dijet_subsubleadDeltaPhi',\n",
    "              'dijet_leadDeltaEta','dijet_subleadDeltaEta','dijet_subsubleadDeltaEta']\n",
    "#trainVars = diphoVars + jetVars\n",
    "trainVars = diphoVars + jetVars + diphoPtVar\n",
    "print trainVars\n",
    "#trainTotal[diphoVars]\n",
    "#trainTotal[trainVars]"
   ]
  },
  {
   "cell_type": "code",
   "execution_count": 7,
   "metadata": {},
   "outputs": [],
   "source": [
    "#add column corresponding to truth bin\n",
    "def truth(row):\n",
    "    if not row['stage1cat']==0: return int(row['stage1cat']-2)\n",
    "    else: return 0\n",
    "\n",
    "trainTotal['truth'] = trainTotal.apply(truth,axis=1)\n",
    "displayVars = diphoVars + ['truth']\n",
    "#trainTotal[displayVars]"
   ]
  },
  {
   "cell_type": "code",
   "execution_count": 8,
   "metadata": {},
   "outputs": [],
   "source": [
    "#add column corresponding to reco bin\n",
    "def reco(row):\n",
    "    if row['n_rec_jets']==0: return 1\n",
    "    elif row['n_rec_jets']==1:\n",
    "        if row['diphopt'] < 60: return 2\n",
    "        elif row['diphopt'] < 120: return 3\n",
    "        elif row['diphopt'] < 200: return 4\n",
    "        else: return 5\n",
    "    else:\n",
    "        if row['diphopt'] < 60: return 6\n",
    "        elif row['diphopt'] < 120: return 7\n",
    "        elif row['diphopt'] < 200: return 8\n",
    "        else: return 9\n",
    "\n",
    "\n",
    "trainTotal['reco'] = trainTotal.apply(reco,axis=1)"
   ]
  },
  {
   "cell_type": "code",
   "execution_count": 9,
   "metadata": {},
   "outputs": [],
   "source": [
    "#add column with full weights for testing\n",
    "def fullWeight(row):\n",
    "    if row['proc'] == 'dipho': return 3. * row['weight'] #only using 1/3 of the diphoton sample\n",
    "    else: return row['weight']\n",
    "trainTotal['fullWeight'] = trainTotal.apply(fullWeight,axis=1)"
   ]
  },
  {
   "cell_type": "code",
   "execution_count": 10,
   "metadata": {},
   "outputs": [],
   "source": [
    "#add column with *normalised weights for training only*\n",
    "weightFactors = [1., 0.0002994, 0.0000757, 0.0000530, 0.0000099, 0.0000029, 0.0000154, 0.0000235, 0.0000165, 0.0000104]\n",
    "def normWeight(row):\n",
    "    weight = row['weight']\n",
    "    if row['proc'] == 'dipho': \n",
    "        weight *= 3. / weightFactors[ int(row['truth']) ] #only using 1/3 of the diphoton sample\n",
    "    elif row['proc'] == 'qcd': \n",
    "        weight *= 0.04 / weightFactors[ int(row['truth']) ] #reduce because too large by default\n",
    "    else: \n",
    "        weight *= 1. / weightFactors[ int(row['truth']) ] #otherwise just reweight by xs\n",
    "    #now account for the resolution\n",
    "    if row['sigmarv']>0. and row['sigmawv']>0.:\n",
    "        weight *= ( (row['vtxprob']/row['sigmarv']) + ((1.-row['vtxprob'])/row['sigmawv']) )\n",
    "    weight = abs(weight)\n",
    "    return weight\n",
    "trainTotal['normedWeight'] = trainTotal.apply(normWeight,axis=1)\n",
    "\n",
    "#elif row['truth'] == 1: return 5. * row['weight'] / weightFactors[ int(row['truth']) ] #optional ad-hoc factor"
   ]
  },
  {
   "cell_type": "code",
   "execution_count": 13,
   "metadata": {},
   "outputs": [],
   "source": [
    "#setup the various datasets\n",
    "allX = trainTotal[trainVars].values #BDT input variables\n",
    "allY = trainTotal['truth'].values #truth/target values (i.e. the gen-level Stage 1 bins)\n",
    "allFW = trainTotal['fullWeight'].values #weights corresponding to number of events\n",
    "allNW = trainTotal['normedWeight'].values #normalised weights for training - can be played with\n",
    "allR = trainTotal['reco'].values\n",
    "allM = trainTotal['CMS_hgg_mass'].values\n",
    "shuffle = np.random.permutation(allX.shape[0])\n",
    "allX = allX[shuffle]\n",
    "allY = allY[shuffle]\n",
    "allFW = allFW[shuffle]\n",
    "allNW = allNW[shuffle]\n",
    "allR = allR[shuffle]\n",
    "allM = allM[shuffle]\n",
    "trainLimit = int(allX.shape[0]*trainFrac)\n",
    "validLimit = int(allX.shape[0]*(trainFrac+validFrac))\n",
    "trainX, validX, testX = np.split( allX, [trainLimit,validLimit] )\n",
    "trainY, validY, testY = np.split( allY, [trainLimit,validLimit] )\n",
    "trainFW, validFW, testFW = np.split( allFW, [trainLimit,validLimit] )\n",
    "trainNW, validNW, testNW = np.split( allNW, [trainLimit,validLimit] )\n",
    "trainR, validR, testR = np.split( allR, [trainLimit,validLimit] )\n",
    "trainM, validM, testM = np.split( allM, [trainLimit,validLimit] )"
   ]
  },
  {
   "cell_type": "code",
   "execution_count": 14,
   "metadata": {},
   "outputs": [
    {
     "name": "stderr",
     "output_type": "stream",
     "text": [
      "[13:06:05] src/tree/updater_prune.cc:74: tree pruning end, 1 roots, 124 extra nodes, 0 pruned nodes, max_depth=6\n",
      "[13:06:24] src/tree/updater_prune.cc:74: tree pruning end, 1 roots, 126 extra nodes, 0 pruned nodes, max_depth=6\n",
      "[13:06:44] src/tree/updater_prune.cc:74: tree pruning end, 1 roots, 118 extra nodes, 0 pruned nodes, max_depth=6\n",
      "[13:07:03] src/tree/updater_prune.cc:74: tree pruning end, 1 roots, 108 extra nodes, 0 pruned nodes, max_depth=6\n",
      "[13:07:22] src/tree/updater_prune.cc:74: tree pruning end, 1 roots, 96 extra nodes, 0 pruned nodes, max_depth=6\n",
      "[13:07:41] src/tree/updater_prune.cc:74: tree pruning end, 1 roots, 90 extra nodes, 0 pruned nodes, max_depth=6\n",
      "[13:08:01] src/tree/updater_prune.cc:74: tree pruning end, 1 roots, 112 extra nodes, 0 pruned nodes, max_depth=6\n",
      "[13:08:20] src/tree/updater_prune.cc:74: tree pruning end, 1 roots, 100 extra nodes, 0 pruned nodes, max_depth=6\n",
      "[13:08:40] src/tree/updater_prune.cc:74: tree pruning end, 1 roots, 110 extra nodes, 0 pruned nodes, max_depth=6\n",
      "[13:09:00] src/tree/updater_prune.cc:74: tree pruning end, 1 roots, 116 extra nodes, 0 pruned nodes, max_depth=6\n",
      "[13:09:30] src/tree/updater_prune.cc:74: tree pruning end, 1 roots, 126 extra nodes, 0 pruned nodes, max_depth=6\n",
      "[13:09:48] src/tree/updater_prune.cc:74: tree pruning end, 1 roots, 126 extra nodes, 0 pruned nodes, max_depth=6\n",
      "[13:10:08] src/tree/updater_prune.cc:74: tree pruning end, 1 roots, 114 extra nodes, 0 pruned nodes, max_depth=6\n",
      "[13:10:27] src/tree/updater_prune.cc:74: tree pruning end, 1 roots, 110 extra nodes, 0 pruned nodes, max_depth=6\n",
      "[13:10:47] src/tree/updater_prune.cc:74: tree pruning end, 1 roots, 100 extra nodes, 0 pruned nodes, max_depth=6\n",
      "[13:11:06] src/tree/updater_prune.cc:74: tree pruning end, 1 roots, 92 extra nodes, 0 pruned nodes, max_depth=6\n",
      "[13:11:26] src/tree/updater_prune.cc:74: tree pruning end, 1 roots, 112 extra nodes, 0 pruned nodes, max_depth=6\n",
      "[13:11:46] src/tree/updater_prune.cc:74: tree pruning end, 1 roots, 88 extra nodes, 0 pruned nodes, max_depth=6\n",
      "[13:12:04] src/tree/updater_prune.cc:74: tree pruning end, 1 roots, 100 extra nodes, 0 pruned nodes, max_depth=6\n",
      "[13:12:24] src/tree/updater_prune.cc:74: tree pruning end, 1 roots, 122 extra nodes, 0 pruned nodes, max_depth=6\n",
      "[13:12:54] src/tree/updater_prune.cc:74: tree pruning end, 1 roots, 124 extra nodes, 0 pruned nodes, max_depth=6\n",
      "[13:13:12] src/tree/updater_prune.cc:74: tree pruning end, 1 roots, 124 extra nodes, 0 pruned nodes, max_depth=6\n",
      "[13:13:31] src/tree/updater_prune.cc:74: tree pruning end, 1 roots, 112 extra nodes, 0 pruned nodes, max_depth=6\n",
      "[13:13:51] src/tree/updater_prune.cc:74: tree pruning end, 1 roots, 116 extra nodes, 0 pruned nodes, max_depth=6\n",
      "[13:14:10] src/tree/updater_prune.cc:74: tree pruning end, 1 roots, 84 extra nodes, 0 pruned nodes, max_depth=6\n",
      "[13:14:29] src/tree/updater_prune.cc:74: tree pruning end, 1 roots, 94 extra nodes, 0 pruned nodes, max_depth=6\n",
      "[13:14:48] src/tree/updater_prune.cc:74: tree pruning end, 1 roots, 104 extra nodes, 0 pruned nodes, max_depth=6\n",
      "[13:15:05] src/tree/updater_prune.cc:74: tree pruning end, 1 roots, 110 extra nodes, 0 pruned nodes, max_depth=6\n",
      "[13:15:23] src/tree/updater_prune.cc:74: tree pruning end, 1 roots, 114 extra nodes, 0 pruned nodes, max_depth=6\n",
      "[13:15:41] src/tree/updater_prune.cc:74: tree pruning end, 1 roots, 106 extra nodes, 0 pruned nodes, max_depth=6\n",
      "[13:16:07] src/tree/updater_prune.cc:74: tree pruning end, 1 roots, 124 extra nodes, 0 pruned nodes, max_depth=6\n",
      "[13:16:25] src/tree/updater_prune.cc:74: tree pruning end, 1 roots, 124 extra nodes, 0 pruned nodes, max_depth=6\n",
      "[13:16:44] src/tree/updater_prune.cc:74: tree pruning end, 1 roots, 110 extra nodes, 0 pruned nodes, max_depth=6\n",
      "[13:17:03] src/tree/updater_prune.cc:74: tree pruning end, 1 roots, 112 extra nodes, 0 pruned nodes, max_depth=6\n",
      "[13:17:21] src/tree/updater_prune.cc:74: tree pruning end, 1 roots, 94 extra nodes, 0 pruned nodes, max_depth=6\n",
      "[13:17:39] src/tree/updater_prune.cc:74: tree pruning end, 1 roots, 86 extra nodes, 0 pruned nodes, max_depth=6\n",
      "[13:17:58] src/tree/updater_prune.cc:74: tree pruning end, 1 roots, 112 extra nodes, 0 pruned nodes, max_depth=6\n",
      "[13:18:17] src/tree/updater_prune.cc:74: tree pruning end, 1 roots, 106 extra nodes, 0 pruned nodes, max_depth=6\n",
      "[13:18:35] src/tree/updater_prune.cc:74: tree pruning end, 1 roots, 114 extra nodes, 0 pruned nodes, max_depth=6\n",
      "[13:18:54] src/tree/updater_prune.cc:74: tree pruning end, 1 roots, 108 extra nodes, 0 pruned nodes, max_depth=6\n",
      "[13:19:20] src/tree/updater_prune.cc:74: tree pruning end, 1 roots, 126 extra nodes, 0 pruned nodes, max_depth=6\n",
      "[13:19:38] src/tree/updater_prune.cc:74: tree pruning end, 1 roots, 120 extra nodes, 0 pruned nodes, max_depth=6\n",
      "[13:19:57] src/tree/updater_prune.cc:74: tree pruning end, 1 roots, 108 extra nodes, 0 pruned nodes, max_depth=6\n",
      "[13:20:16] src/tree/updater_prune.cc:74: tree pruning end, 1 roots, 102 extra nodes, 0 pruned nodes, max_depth=6\n",
      "[13:20:35] src/tree/updater_prune.cc:74: tree pruning end, 1 roots, 106 extra nodes, 0 pruned nodes, max_depth=6\n",
      "[13:20:53] src/tree/updater_prune.cc:74: tree pruning end, 1 roots, 96 extra nodes, 0 pruned nodes, max_depth=6\n",
      "[13:21:11] src/tree/updater_prune.cc:74: tree pruning end, 1 roots, 120 extra nodes, 0 pruned nodes, max_depth=6\n",
      "[13:21:30] src/tree/updater_prune.cc:74: tree pruning end, 1 roots, 108 extra nodes, 0 pruned nodes, max_depth=6\n",
      "[13:21:49] src/tree/updater_prune.cc:74: tree pruning end, 1 roots, 124 extra nodes, 0 pruned nodes, max_depth=6\n",
      "[13:22:08] src/tree/updater_prune.cc:74: tree pruning end, 1 roots, 106 extra nodes, 0 pruned nodes, max_depth=6\n",
      "[13:22:32] src/tree/updater_prune.cc:74: tree pruning end, 1 roots, 126 extra nodes, 0 pruned nodes, max_depth=6\n",
      "[13:22:50] src/tree/updater_prune.cc:74: tree pruning end, 1 roots, 120 extra nodes, 0 pruned nodes, max_depth=6\n",
      "[13:23:07] src/tree/updater_prune.cc:74: tree pruning end, 1 roots, 118 extra nodes, 0 pruned nodes, max_depth=6\n",
      "[13:23:24] src/tree/updater_prune.cc:74: tree pruning end, 1 roots, 108 extra nodes, 0 pruned nodes, max_depth=6\n",
      "[13:23:42] src/tree/updater_prune.cc:74: tree pruning end, 1 roots, 82 extra nodes, 0 pruned nodes, max_depth=6\n",
      "[13:23:58] src/tree/updater_prune.cc:74: tree pruning end, 1 roots, 96 extra nodes, 0 pruned nodes, max_depth=6\n",
      "[13:24:15] src/tree/updater_prune.cc:74: tree pruning end, 1 roots, 112 extra nodes, 0 pruned nodes, max_depth=6\n",
      "[13:24:33] src/tree/updater_prune.cc:74: tree pruning end, 1 roots, 102 extra nodes, 0 pruned nodes, max_depth=6\n",
      "[13:24:52] src/tree/updater_prune.cc:74: tree pruning end, 1 roots, 114 extra nodes, 0 pruned nodes, max_depth=6\n",
      "[13:25:10] src/tree/updater_prune.cc:74: tree pruning end, 1 roots, 112 extra nodes, 0 pruned nodes, max_depth=6\n",
      "[13:25:36] src/tree/updater_prune.cc:74: tree pruning end, 1 roots, 126 extra nodes, 0 pruned nodes, max_depth=6\n",
      "[13:25:54] src/tree/updater_prune.cc:74: tree pruning end, 1 roots, 124 extra nodes, 0 pruned nodes, max_depth=6\n",
      "[13:26:13] src/tree/updater_prune.cc:74: tree pruning end, 1 roots, 104 extra nodes, 0 pruned nodes, max_depth=6\n",
      "[13:26:32] src/tree/updater_prune.cc:74: tree pruning end, 1 roots, 98 extra nodes, 0 pruned nodes, max_depth=6\n",
      "[13:26:49] src/tree/updater_prune.cc:74: tree pruning end, 1 roots, 86 extra nodes, 0 pruned nodes, max_depth=6\n",
      "[13:27:08] src/tree/updater_prune.cc:74: tree pruning end, 1 roots, 96 extra nodes, 0 pruned nodes, max_depth=6\n",
      "[13:27:25] src/tree/updater_prune.cc:74: tree pruning end, 1 roots, 104 extra nodes, 0 pruned nodes, max_depth=6\n",
      "[13:27:45] src/tree/updater_prune.cc:74: tree pruning end, 1 roots, 112 extra nodes, 0 pruned nodes, max_depth=6\n",
      "[13:28:04] src/tree/updater_prune.cc:74: tree pruning end, 1 roots, 120 extra nodes, 0 pruned nodes, max_depth=6\n",
      "[13:28:22] src/tree/updater_prune.cc:74: tree pruning end, 1 roots, 108 extra nodes, 0 pruned nodes, max_depth=6\n",
      "[13:28:49] src/tree/updater_prune.cc:74: tree pruning end, 1 roots, 126 extra nodes, 0 pruned nodes, max_depth=6\n",
      "[13:29:06] src/tree/updater_prune.cc:74: tree pruning end, 1 roots, 126 extra nodes, 0 pruned nodes, max_depth=6\n",
      "[13:29:24] src/tree/updater_prune.cc:74: tree pruning end, 1 roots, 114 extra nodes, 0 pruned nodes, max_depth=6\n",
      "[13:29:41] src/tree/updater_prune.cc:74: tree pruning end, 1 roots, 96 extra nodes, 0 pruned nodes, max_depth=6\n",
      "[13:29:58] src/tree/updater_prune.cc:74: tree pruning end, 1 roots, 86 extra nodes, 0 pruned nodes, max_depth=6\n",
      "[13:30:15] src/tree/updater_prune.cc:74: tree pruning end, 1 roots, 86 extra nodes, 0 pruned nodes, max_depth=6\n",
      "[13:30:32] src/tree/updater_prune.cc:74: tree pruning end, 1 roots, 96 extra nodes, 0 pruned nodes, max_depth=6\n",
      "[13:30:49] src/tree/updater_prune.cc:74: tree pruning end, 1 roots, 108 extra nodes, 0 pruned nodes, max_depth=6\n",
      "[13:31:07] src/tree/updater_prune.cc:74: tree pruning end, 1 roots, 108 extra nodes, 0 pruned nodes, max_depth=6\n",
      "[13:31:25] src/tree/updater_prune.cc:74: tree pruning end, 1 roots, 110 extra nodes, 0 pruned nodes, max_depth=6\n",
      "[13:31:50] src/tree/updater_prune.cc:74: tree pruning end, 1 roots, 126 extra nodes, 0 pruned nodes, max_depth=6\n",
      "[13:32:07] src/tree/updater_prune.cc:74: tree pruning end, 1 roots, 110 extra nodes, 0 pruned nodes, max_depth=6\n",
      "[13:32:26] src/tree/updater_prune.cc:74: tree pruning end, 1 roots, 86 extra nodes, 0 pruned nodes, max_depth=6\n",
      "[13:32:44] src/tree/updater_prune.cc:74: tree pruning end, 1 roots, 98 extra nodes, 0 pruned nodes, max_depth=6\n",
      "[13:33:02] src/tree/updater_prune.cc:74: tree pruning end, 1 roots, 88 extra nodes, 0 pruned nodes, max_depth=6\n",
      "[13:33:18] src/tree/updater_prune.cc:74: tree pruning end, 1 roots, 82 extra nodes, 0 pruned nodes, max_depth=6\n",
      "[13:33:36] src/tree/updater_prune.cc:74: tree pruning end, 1 roots, 96 extra nodes, 0 pruned nodes, max_depth=6\n",
      "[13:33:55] src/tree/updater_prune.cc:74: tree pruning end, 1 roots, 96 extra nodes, 0 pruned nodes, max_depth=6\n",
      "[13:34:13] src/tree/updater_prune.cc:74: tree pruning end, 1 roots, 104 extra nodes, 0 pruned nodes, max_depth=6\n",
      "[13:34:31] src/tree/updater_prune.cc:74: tree pruning end, 1 roots, 114 extra nodes, 0 pruned nodes, max_depth=6\n",
      "[13:34:56] src/tree/updater_prune.cc:74: tree pruning end, 1 roots, 126 extra nodes, 0 pruned nodes, max_depth=6\n",
      "[13:35:13] src/tree/updater_prune.cc:74: tree pruning end, 1 roots, 112 extra nodes, 0 pruned nodes, max_depth=6\n",
      "[13:35:31] src/tree/updater_prune.cc:74: tree pruning end, 1 roots, 100 extra nodes, 0 pruned nodes, max_depth=6\n",
      "[13:35:49] src/tree/updater_prune.cc:74: tree pruning end, 1 roots, 100 extra nodes, 0 pruned nodes, max_depth=6\n",
      "[13:36:07] src/tree/updater_prune.cc:74: tree pruning end, 1 roots, 106 extra nodes, 0 pruned nodes, max_depth=6\n",
      "[13:36:25] src/tree/updater_prune.cc:74: tree pruning end, 1 roots, 78 extra nodes, 0 pruned nodes, max_depth=6\n",
      "[13:36:42] src/tree/updater_prune.cc:74: tree pruning end, 1 roots, 102 extra nodes, 0 pruned nodes, max_depth=6\n",
      "[13:37:01] src/tree/updater_prune.cc:74: tree pruning end, 1 roots, 102 extra nodes, 0 pruned nodes, max_depth=6\n",
      "[13:37:19] src/tree/updater_prune.cc:74: tree pruning end, 1 roots, 116 extra nodes, 0 pruned nodes, max_depth=6\n",
      "[13:37:38] src/tree/updater_prune.cc:74: tree pruning end, 1 roots, 116 extra nodes, 0 pruned nodes, max_depth=6\n"
     ]
    }
   ],
   "source": [
    "#one attempt at building classifier\n",
    "training = xg.DMatrix(trainX, label=trainY, weight=trainNW, feature_names=trainVars)\n",
    "#training = xg.DMatrix(trainX, label=trainY, weight=trainFW)\n",
    "testing = xg.DMatrix(testX, label=testY, weight=testFW, feature_names=trainVars)\n",
    "param = {}\n",
    "param['objective'] = 'multi:softprob'\n",
    "param['num_class'] = nClasses\n",
    "classifier = xg.train(param, training)"
   ]
  },
  {
   "cell_type": "code",
   "execution_count": 15,
   "metadata": {},
   "outputs": [
    {
     "name": "stdout",
     "output_type": "stream",
     "text": [
      "[0 0 0 ..., 0 0 0]\n",
      "[2 3 1 ..., 2 1 3]\n"
     ]
    }
   ],
   "source": [
    "#get predicted values\n",
    "predProb = classifier.predict(testing).reshape(testY.shape[0],nClasses)\n",
    "#print predProb\n",
    "#print predProb[:,1:]\n",
    "pred = np.argmax(predProb[:,1:], axis=1) + 1 #don't want to class as background\n",
    "print testY\n",
    "print pred"
   ]
  },
  {
   "cell_type": "code",
   "execution_count": 16,
   "metadata": {},
   "outputs": [
    {
     "name": "stdout",
     "output_type": "stream",
     "text": [
      "ratio for bin 1 is 1.0000000\n",
      "ratio for bin 2 is 0.0002838\n",
      "ratio for bin 3 is 0.0000689\n",
      "ratio for bin 4 is 0.0000505\n",
      "ratio for bin 5 is 0.0000088\n",
      "ratio for bin 6 is 0.0000025\n",
      "ratio for bin 7 is 0.0000130\n",
      "ratio for bin 8 is 0.0000229\n",
      "ratio for bin 9 is 0.0000146\n",
      "ratio for bin 10 is 0.0000106\n"
     ]
    },
    {
     "name": "stderr",
     "output_type": "stream",
     "text": [
      "Info in <TCanvas::Print>: pdf file truthHist.pdf has been created\n",
      "Info in <TCanvas::Print>: pdf file predHist.pdf has been created\n",
      "Info in <TCanvas::Print>: pdf file efficiencyHist.pdf has been created\n"
     ]
    }
   ],
   "source": [
    "#setup 2D hists\n",
    "truthHist = r.TH1F('truthHist','truthHist',nClasses,-0.5,nClasses-0.5)\n",
    "predHist  = r.TH1F('predHist','predHist',nClasses,-0.5,nClasses-0.5)\n",
    "rightHist = r.TH1F('rightHist','rightHist',nClasses,-0.5,nClasses-0.5)\n",
    "wrongHist = r.TH1F('wrongHist','wrongHist',nClasses,-0.5,nClasses-0.5)\n",
    "for true,guess,w in zip(testY,pred,testFW):\n",
    "    truthHist.Fill(true,w)\n",
    "    predHist.Fill(guess,w)\n",
    "    if true==guess: rightHist.Fill(true,w)\n",
    "    else: wrongHist.Fill(true,w)\n",
    "firstBinVal = -1.\n",
    "for iBin in range(1,truthHist.GetNbinsX()+1):\n",
    "    if iBin==1: firstBinVal = truthHist.GetBinContent(iBin)\n",
    "    ratio = float(truthHist.GetBinContent(iBin)) / firstBinVal\n",
    "    print 'ratio for bin %g is %1.7f'%(iBin,ratio)\n",
    "wrongHist.Add(rightHist)\n",
    "rightHist.Divide(wrongHist)\n",
    "effHist = r.TH1F\n",
    "r.gStyle.SetOptStat(0)\n",
    "canv = r.TCanvas()\n",
    "canv.cd()\n",
    "truthHist.GetYaxis().SetRangeUser(0.,6.)\n",
    "truthHist.Draw('hist')\n",
    "canv.Print('truthHist.pdf')\n",
    "predHist.GetYaxis().SetRangeUser(0.,6.)\n",
    "predHist.Draw('hist')\n",
    "canv.Print('predHist.pdf')\n",
    "rightHist.GetYaxis().SetRangeUser(0.,1.)\n",
    "rightHist.Draw('hist')\n",
    "canv.Print('efficiencyHist.pdf')"
   ]
  },
  {
   "cell_type": "code",
   "execution_count": 17,
   "metadata": {},
   "outputs": [],
   "source": [
    "#generate weights for the 2D hists    \n",
    "sumwProcCatMapReco = {}\n",
    "sumwProcCatMapPred = {}\n",
    "sumwProcMap = {}\n",
    "for iProc in range(1, nClasses):\n",
    "    sumwProcMap[iProc] = np.sum(testFW*(testY==iProc))\n",
    "    for jProc in range(nClasses):\n",
    "        sumwProcCatMapPred[(iProc,jProc)] = np.sum(testFW*(testY==iProc)*(pred==jProc))\n",
    "        sumwProcCatMapReco[(iProc,jProc)] = np.sum(testFW*(testY==iProc)*(testR==jProc))\n",
    "sumwCatMapReco = {}\n",
    "sumwCatMapPred = {}\n",
    "for iProc in range(1, nClasses):\n",
    "    #sumwCatMapPred[iProc] = np.sum(testFW*(pred==iProc))\n",
    "    #sumwCatMapReco[iProc] = np.sum(testFW*(testR==iProc)\n",
    "    sumwCatMapPred[iProc] = np.sum(testFW*(pred==iProc)*(testY!=0)) #don't count bkg here\n",
    "    sumwCatMapReco[iProc] = np.sum(testFW*(testR==iProc)*(testY!=0))"
   ]
  },
  {
   "cell_type": "code",
   "execution_count": 18,
   "metadata": {},
   "outputs": [],
   "source": [
    "#fill the 2D hists\n",
    "nBinsX=nClasses\n",
    "nBinsY=nClasses\n",
    "procHistReco = r.TH2F('procHistReco','procHistReco', nBinsX, -0.5, nBinsX-0.5, nBinsY, -0.5, nBinsY-0.5)\n",
    "procHistReco.SetTitle('')\n",
    "procHistPred = r.TH2F('procHistPred','procHistPred', nBinsX, -0.5, nBinsX-0.5, nBinsY, -0.5, nBinsY-0.5)\n",
    "procHistPred.SetTitle('')\n",
    "catHistReco  = r.TH2F('catHistReco','catHistReco', nBinsX, -0.5, nBinsX-0.5, nBinsY, -0.5, nBinsY-0.5)\n",
    "catHistReco.SetTitle('')\n",
    "catHistPred  = r.TH2F('catHistPred','catHistPred', nBinsX, -0.5, nBinsX-0.5, nBinsY, -0.5, nBinsY-0.5)\n",
    "catHistPred.SetTitle('')\n",
    "for iProc in range(1, nClasses):\n",
    "    for jProc in range(1, nClasses):\n",
    "        procWeightReco = 100. * sumwProcCatMapReco[(iProc,jProc)] / sumwProcMap[iProc]\n",
    "        procWeightPred = 100. * sumwProcCatMapPred[(iProc,jProc)] / sumwProcMap[iProc]\n",
    "        catWeightReco  = 100. * sumwProcCatMapReco[(iProc,jProc)] / sumwCatMapReco[jProc]\n",
    "        catWeightPred  = 100. * sumwProcCatMapPred[(iProc,jProc)] / sumwCatMapPred[jProc]\n",
    "        \n",
    "        procHistReco.Fill(iProc, jProc, procWeightReco)\n",
    "        procHistPred.Fill(iProc, jProc, procWeightPred)\n",
    "        catHistReco.Fill(iProc, jProc, catWeightReco)\n",
    "        catHistPred.Fill(iProc, jProc, catWeightPred)"
   ]
  },
  {
   "cell_type": "code",
   "execution_count": 19,
   "metadata": {},
   "outputs": [
    {
     "name": "stderr",
     "output_type": "stream",
     "text": [
      "Info in <TCanvas::Print>: pdf file procHistReco.pdf has been created\n",
      "Info in <TCanvas::Print>: pdf file catHistReco.pdf has been created\n",
      "Info in <TCanvas::Print>: pdf file procHistPred.pdf has been created\n",
      "Info in <TCanvas::Print>: pdf file catHistPred.pdf has been created\n"
     ]
    }
   ],
   "source": [
    "#draw the 2D hists\n",
    "def prettyHist(hist):\n",
    "    hist.SetStats(0)\n",
    "    hist.GetXaxis().SetTitle('Process')\n",
    "    hist.GetXaxis().SetTickLength(0.)\n",
    "    hist.GetYaxis().SetTitle('Category')\n",
    "    hist.GetYaxis().SetTitleOffset(1.5)\n",
    "    hist.GetYaxis().SetTickLength(0.)\n",
    "    hist.SetMinimum(-0.00001)\n",
    "    hist.SetMaximum(100.)\n",
    "    \n",
    "canv = r.TCanvas()\n",
    "r.gStyle.SetPaintTextFormat('2.0f')\n",
    "prettyHist(procHistReco)\n",
    "procHistReco.Draw('colz,text')\n",
    "canv.Print('procHistReco.pdf')\n",
    "prettyHist(catHistReco)\n",
    "catHistReco.Draw('colz,text')\n",
    "canv.Print('catHistReco.pdf')\n",
    "prettyHist(procHistPred)\n",
    "procHistPred.Draw('colz,text')\n",
    "canv.Print('procHistPred.pdf')\n",
    "prettyHist(catHistPred)\n",
    "catHistPred.Draw('colz,text')\n",
    "canv.Print('catHistPred.pdf')"
   ]
  },
  {
   "cell_type": "code",
   "execution_count": 20,
   "metadata": {},
   "outputs": [
    {
     "name": "stderr",
     "output_type": "stream",
     "text": [
      "Info in <TCanvas::Print>: pdf file bkgProb_1.pdf has been created\n",
      "Info in <TCanvas::Print>: pdf file bkgProb_2.pdf has been created\n",
      "Info in <TCanvas::Print>: pdf file bkgProb_3.pdf has been created\n",
      "Info in <TCanvas::Print>: pdf file bkgProb_4.pdf has been created\n",
      "Info in <TCanvas::Print>: pdf file bkgProb_5.pdf has been created\n",
      "Info in <TCanvas::Print>: pdf file bkgProb_6.pdf has been created\n",
      "Info in <TCanvas::Print>: pdf file bkgProb_7.pdf has been created\n",
      "Info in <TCanvas::Print>: pdf file bkgProb_8.pdf has been created\n",
      "Info in <TCanvas::Print>: pdf file bkgProb_9.pdf has been created\n"
     ]
    }
   ],
   "source": [
    "#draw the bkg-prob distribution for each category\n",
    "bkgHists = {}\n",
    "sigHists = {}\n",
    "bkgProb = predProb[:,0]*(testY==0)\n",
    "for iProc in range(1, nClasses):\n",
    "    sigProb = predProb[:,0]*(testY==iProc) #could do this for inclusive signal? Or add other signal to background...\n",
    "    bkgHists[iProc] = r.TH1F('bkgProb_%s'%iProc, 'bkgProb_%s'%iProc, 50, 0., 1.)\n",
    "    sigHists[iProc] = r.TH1F('sigProb_%s'%iProc, 'sigProb_%s'%iProc, 50, 0., 1.)\n",
    "    for bkg,sig,w in zip(bkgProb,sigProb,testFW):\n",
    "        if bkg!=0: bkgHists[iProc].Fill(1.-bkg,w)\n",
    "        if sig!=0: sigHists[iProc].Fill(1.-sig,w)\n",
    "canv = r.TCanvas()\n",
    "for iProc in range(1, nClasses):\n",
    "    bkgInt = bkgHists[iProc].Integral()\n",
    "    bkgHists[iProc].Scale(1./bkgInt)\n",
    "    bkgHists[iProc].SetLineColor(r.kBlack)\n",
    "    sigInt = sigHists[iProc].Integral()\n",
    "    sigHists[iProc].Scale(1./sigInt)\n",
    "    sigHists[iProc].SetLineColor(r.kGreen+1)\n",
    "    sigHists[iProc].Draw('hist')\n",
    "    bkgHists[iProc].Draw('hist,same')\n",
    "    canv.Print('bkgProb_%s.pdf'%iProc)"
   ]
  },
  {
   "cell_type": "code",
   "execution_count": 21,
   "metadata": {},
   "outputs": [
    {
     "name": "stdout",
     "output_type": "stream",
     "text": [
      "for class 1 the S and B counts are:\n",
      "Reco: 459.609 and 6159.931,   BDT 381.259 and 6041.355\n",
      "corresponding to naive significance of:\n",
      "Reco: 5.856,   BDT 4.905 \n",
      "\n",
      "for class 2 the S and B counts are:\n",
      "Reco: 80.015 and 12878.683,   BDT 96.088 and 12953.235\n",
      "corresponding to naive significance of:\n",
      "Reco: 0.705,   BDT 0.844 \n",
      "\n",
      "for class 3 the S and B counts are:\n",
      "Reco: 69.134 and 5317.241,   BDT 75.898 and 5328.607\n",
      "corresponding to naive significance of:\n",
      "Reco: 0.948,   BDT 1.040 \n",
      "\n",
      "for class 4 the S and B counts are:\n",
      "Reco: 12.884 and 459.407,   BDT 14.074 and 461.466\n",
      "corresponding to naive significance of:\n",
      "Reco: 0.601,   BDT 0.655 \n",
      "\n",
      "for class 5 the S and B counts are:\n",
      "Reco: 3.789 and 48.832,   BDT 4.239 and 50.327\n",
      "corresponding to naive significance of:\n",
      "Reco: 0.542,   BDT 0.597 \n",
      "\n",
      "for class 6 the S and B counts are:\n",
      "Reco: 14.520 and 11675.203,   BDT 17.834 and 11698.696\n",
      "corresponding to naive significance of:\n",
      "Reco: 0.134,   BDT 0.165 \n",
      "\n",
      "for class 7 the S and B counts are:\n",
      "Reco: 29.313 and 3465.064,   BDT 32.101 and 3471.949\n",
      "corresponding to naive significance of:\n",
      "Reco: 0.498,   BDT 0.545 \n",
      "\n",
      "for class 8 the S and B counts are:\n",
      "Reco: 20.812 and 1463.437,   BDT 21.158 and 1463.006\n",
      "corresponding to naive significance of:\n",
      "Reco: 0.544,   BDT 0.553 \n",
      "\n",
      "for class 9 the S and B counts are:\n",
      "Reco: 17.342 and 81.966,   BDT 16.684 and 81.125\n",
      "corresponding to naive significance of:\n",
      "Reco: 1.915,   BDT 1.852 \n",
      "\n"
     ]
    }
   ],
   "source": [
    "#calculate (very) naive significance\n",
    "lumi = 77.\n",
    "for iProc in range(1, nClasses):\n",
    "    sigReco = lumi * sumwProcCatMapReco[(iProc,iProc)]\n",
    "    sigPred = lumi * sumwProcCatMapPred[(iProc,iProc)]\n",
    "    totReco = lumi * sumwCatMapReco[iProc]\n",
    "    totPred = lumi * sumwCatMapPred[iProc]\n",
    "    bkgReco = lumi * np.sum(testFW * (testY==0) * (pred==iProc) * (testM>123.) * (testM<127.) * (bkgProb<0.08))\n",
    "    bkgPred = lumi * np.sum(testFW * (testY==0) * (pred==iProc) * (testM>123.) * (testM<127.) * (bkgProb<0.08))\n",
    "    valReco = sigReco / np.sqrt(totReco+bkgReco)\n",
    "    valPred = sigPred / np.sqrt(totPred+bkgPred)\n",
    "    print 'for class %g the S and B counts are:'%iProc\n",
    "    print 'Reco: %1.3f and %1.3f,   BDT %1.3f and %1.3f'%(sigReco, totReco+bkgReco, sigPred, totPred+bkgPred)\n",
    "    print 'corresponding to naive significance of:'\n",
    "    print 'Reco: %1.3f,   BDT %1.3f \\n'%(valReco, valPred)"
   ]
  },
  {
   "cell_type": "code",
   "execution_count": 22,
   "metadata": {},
   "outputs": [
    {
     "data": {
      "image/png": "[encoded data removed]",
      "text/plain": [
       "<matplotlib.figure.Figure at 0x7f1809f670d0>"
      ]
     },
     "metadata": {},
     "output_type": "display_data"
    }
   ],
   "source": [
    "# get feature importances\n",
    "xg.plot_importance(classifier)\n",
    "plt.show()"
   ]
  },
  {
   "cell_type": "code",
   "execution_count": 23,
   "metadata": {},
   "outputs": [],
   "source": [
    "#define rms function\n",
    "def getWidth(array):\n",
    "    sumW = np.sum(array)\n",
    "    mean = np.sum(array*testM)/ sumW\n",
    "    diff = testM - mean\n",
    "    diffSq = diff*diff\n",
    "    sumDiffSq = np.sum(diffSq*array) / sumW\n",
    "    width = np.sqrt(sumDiffSq)\n",
    "    return width"
   ]
  },
  {
   "cell_type": "code",
   "execution_count": 24,
   "metadata": {},
   "outputs": [],
   "source": [
    "#define approximate mean significance\n",
    "def getAMS(s, b, breg=1.):\n",
    "    b = b + breg\n",
    "    val = 0.\n",
    "    if b > 0.:\n",
    "        val = (s + b)*np.log(1. + (s/b))\n",
    "        val = 2*(val - s)\n",
    "        val = np.sqrt(val)\n",
    "    return val"
   ]
  },
  {
   "cell_type": "code",
   "execution_count": 25,
   "metadata": {},
   "outputs": [
    {
     "name": "stderr",
     "output_type": "stream",
     "text": [
      "/cvmfs/sft.cern.ch/lcg/views/LCG_93/x86_64-slc6-gcc62-opt/lib/python2.7/site-packages/ipykernel/__main__.py:4: RuntimeWarning: invalid value encountered in double_scalars\n",
      "/cvmfs/sft.cern.ch/lcg/views/LCG_93/x86_64-slc6-gcc62-opt/lib/python2.7/site-packages/ipykernel/__main__.py:21: RuntimeWarning: invalid value encountered in greater\n",
      "/cvmfs/sft.cern.ch/lcg/views/LCG_93/x86_64-slc6-gcc62-opt/lib/python2.7/site-packages/ipykernel/__main__.py:21: RuntimeWarning: invalid value encountered in less\n"
     ]
    },
    {
     "name": "stdout",
     "output_type": "stream",
     "text": [
      "optimal one-category signifiance for proc 1:\n",
      "cut = 0.943, S = 178.29, B = 3791.41, signif = 2.87\n",
      "\n",
      "optimal one-category signifiance for proc 2:\n",
      "cut = 0.979, S = 21.73, B = 611.46, signif = 0.87\n",
      "\n",
      "optimal one-category signifiance for proc 3:\n",
      "cut = 0.976, S = 43.15, B = 2418.52, signif = 0.87\n",
      "\n",
      "optimal one-category signifiance for proc 4:\n",
      "cut = 0.984, S = 8.87, B = 246.63, signif = 0.56\n",
      "\n"
     ]
    },
    {
     "name": "stderr",
     "output_type": "stream",
     "text": [
      "/cvmfs/sft.cern.ch/lcg/views/LCG_93/x86_64-slc6-gcc62-opt/lib/python2.7/site-packages/ipykernel/__main__.py:8: RuntimeWarning: invalid value encountered in sqrt\n"
     ]
    },
    {
     "name": "stdout",
     "output_type": "stream",
     "text": [
      "optimal one-category signifiance for proc 5:\n",
      "cut = 0.988, S = 2.50, B = 24.21, signif = 0.49\n",
      "\n",
      "optimal one-category signifiance for proc 6:\n",
      "cut = 0.973, S = 11.18, B = 5935.30, signif = 0.15\n",
      "\n",
      "optimal one-category signifiance for proc 7:\n",
      "cut = 0.988, S = 9.47, B = 263.80, signif = 0.58\n",
      "\n",
      "optimal one-category signifiance for proc 8:\n",
      "cut = 0.987, S = 11.49, B = 792.24, signif = 0.41\n",
      "\n",
      "optimal one-category signifiance for proc 9:\n",
      "cut = 0.993, S = 8.12, B = 19.42, signif = 1.69\n",
      "\n"
     ]
    }
   ],
   "source": [
    "#going to try two different significance estimates - hopefully they agree well.. \n",
    "#first is to use only numpy, i.e. no ROOT, so a bit cruder bc no bkg fit and rms instead of effSigma\n",
    "lumi = 77.\n",
    "theProbs = 1. - predProb[:,0]\n",
    "\n",
    "#first do one category\n",
    "for iProc in range(1, nClasses):\n",
    "    bestCut = -1.\n",
    "    bestSignif = -1.\n",
    "    bestSig = -1.\n",
    "    bestBkg = -1.\n",
    "    #for cut in np.random.rand(100,1):\n",
    "    for cut in np.arange(0.9,1.0,0.0005):\n",
    "        sigArray = testFW * (testY==iProc) * (pred==iProc) * (theProbs>cut)\n",
    "        sigPred = lumi * 0.68 * np.sum( sigArray )\n",
    "        #sigRMS = getWidth(sigArray)\n",
    "        sigRMS = 0.67 * getWidth(sigArray) #ad hoc because rms seems to be an overestimate\n",
    "        #if cut < 0.9501 and cut > 0.9495: print 'sig RMS in proc %g is %1.3f'%(iProc,sigRMS)\n",
    "        totArray = testFW * (testY!=0) * (pred==iProc) * (theProbs>cut)\n",
    "        totPred = lumi * 0.68 * np.sum( totArray )\n",
    "        bkgArray = testFW * (testY==0) * (pred==iProc) * (testM>(125.-sigRMS)) * (testM<(125.+sigRMS)) * (theProbs>cut)\n",
    "        bkgPred = lumi * np.sum(bkgArray)\n",
    "        fullBkg = bkgPred + totPred - sigPred\n",
    "        valPred = getAMS(sigPred, fullBkg)\n",
    "        #print 'cut is %1.3f'%cut\n",
    "        #print 'rms is %1.2f'%sigRMS\n",
    "        #print 'S, B are %1.2f, %1.2f'%(sigPred,fullBkg)\n",
    "        #print 'signif is %1.2f'%valPred\n",
    "        if valPred > bestSignif: \n",
    "            bestCut = cut\n",
    "            bestSignif = valPred\n",
    "            bestSig = sigPred\n",
    "            bestBkg = fullBkg\n",
    "    print 'optimal one-category signifiance for proc %s:'%(iProc)\n",
    "    print 'cut = %1.3f, S = %1.2f, B = %1.2f, signif = %1.2f'%(bestCut, bestSig, bestBkg, bestSignif)\n",
    "    print"
   ]
  },
  {
   "cell_type": "code",
   "execution_count": null,
   "metadata": {},
   "outputs": [],
   "source": [
    "#now try two categories\n",
    "for iProc in range(1, nClasses):\n",
    "    bestLoCut = -1.\n",
    "    bestHiCut = -1.\n",
    "    bestSignif = -1.\n",
    "    for cut1 in np.random.rand(50,1):\n",
    "        for cut2 in np.random.rand(50,1):\n",
    "            loCut = min(cut1, cut2)\n",
    "            hiCut = max(cut1, cut2)\n",
    "            #get significance of first (purest) cat\n",
    "            sigArray = testFW * (testY==iProc) * (pred==iProc) * (theProbs>hiCut)\n",
    "            sigPred = lumi * 0.68 * np.sum( sigArray )\n",
    "            sigRMS = getWidth(sigArray)\n",
    "            totArray = testFW * (testY!=0) * (pred==iProc) * (theProbs>hiCut)\n",
    "            totPred = lumi * 0.68 * np.sum( totArray )\n",
    "            bkgArray = testFW * (testY==0) * (pred==iProc) * (testM>(125.-sigRMS)) * (testM<(125.+sigRMS)) * (theProbs>hiCut)\n",
    "            bkgPred = lumi * np.sum(bkgArray)\n",
    "            fullBkg = bkgPred + totPred - sigPred\n",
    "            valPred_0 = getAMS(sigPred, fullBkg)\n",
    "            #get significance of second (purest) cat\n",
    "            sigArray = testFW * (testY==iProc) * (pred==iProc) * (theProbs>loCut) * (theProbs<hiCut)\n",
    "            sigPred = lumi * 0.68 * np.sum( sigArray )\n",
    "            sigRMS = getWidth(sigArray)\n",
    "            totArray = testFW * (testY!=0) * (pred==iProc) * (theProbs>loCut) * (theProbs<hiCut)\n",
    "            totPred = lumi * 0.68 * np.sum( totArray )\n",
    "            bkgArray = testFW * (testY==0) * (pred==iProc) * (testM>(125.-sigRMS)) * (testM<(125.+sigRMS)) * (theProbs>loCut) * (theProbs<hiCut)\n",
    "            bkgPred = lumi * np.sum(bkgArray)\n",
    "            fullBkg = bkgPred + totPred - sigPred\n",
    "            valPred_1 = np.getAMS(sigPred, fullBkg)\n",
    "            valPred = np.sqrt( valPred_0*valPred_0 + valPred_1*valPred_1)\n",
    "            if valPred > bestSignif: \n",
    "                bestLoCut = loCut\n",
    "                bestHiCut = hiCut\n",
    "                bestSignif = valPred\n",
    "    print 'optimal two-category signifiance for proc %s:'%(iProc)\n",
    "    print 'cutLow = %1.2f, cutHigh = %1.2f, signif = %1.2f'%(bestLoCut, bestHiCut, bestSignif)\n",
    "    print"
   ]
  },
  {
   "cell_type": "code",
   "execution_count": 26,
   "metadata": {},
   "outputs": [],
   "source": [
    "#now move on to the more \"traditional method\", which uses a fit to bkg distribution and full sigmaEff calc\n",
    "#set up 2D hists in diphoMass, bkgProb\n",
    "diagSigHists = {}\n",
    "fullSigHists = {}\n",
    "bkgOnlyHists = {}\n",
    "nBins = 100\n",
    "for iProc in range(1, nClasses):\n",
    "    diagSigHists[iProc] = r.TH2F('diagSigHist_%g'%iProc, 'diagSigHist_%g'%iProc, 10*nBins, 0., 1., nBins, 100., 180.)\n",
    "    fullSigHists[iProc] = r.TH2F('fullSigHist_%g'%iProc, 'fullSigHist_%g'%iProc, 10*nBins, 0., 1., nBins, 100., 180.)\n",
    "    bkgOnlyHists[iProc] = r.TH2F('bkgOnlyHist_%g'%iProc, 'bkgOnlyHist_%g'%iProc, 10*nBins, 0., 1., nBins, 100., 180.)\n",
    "    diagSigW = testFW * (testY==iProc) * (pred==iProc)\n",
    "    fullSigW = testFW * (testY!=0) * (pred==iProc)\n",
    "    bkgOnlyW = testFW * (testY==0) * (pred==iProc)\n",
    "    for mass,prob,diagW,fullW,bkgW in zip(testM,theProbs,diagSigW,fullSigW,bkgOnlyW):\n",
    "        diagSigHists[iProc].Fill(prob, mass, diagW)\n",
    "        fullSigHists[iProc].Fill(prob, mass, fullW)\n",
    "        bkgOnlyHists[iProc].Fill(prob, mass, bkgW)"
   ]
  },
  {
   "cell_type": "code",
   "execution_count": 27,
   "metadata": {},
   "outputs": [
    {
     "ename": "ImportError",
     "evalue": "No module named diphoHelpers",
     "output_type": "error",
     "traceback": [
      "\u001b[0;31m\u001b[0m",
      "\u001b[0;31mImportError\u001b[0mTraceback (most recent call last)",
      "\u001b[0;32m<ipython-input-27-41a44ca35335>\u001b[0m in \u001b[0;36m<module>\u001b[0;34m()\u001b[0m\n\u001b[1;32m      1\u001b[0m \u001b[0;31m#one-category optimisation\u001b[0m\u001b[0;34m\u001b[0m\u001b[0;34m\u001b[0m\u001b[0m\n\u001b[0;32m----> 2\u001b[0;31m \u001b[0;32mfrom\u001b[0m \u001b[0mdiphoHelpers\u001b[0m \u001b[0;32mimport\u001b[0m \u001b[0mevalSignif\u001b[0m\u001b[0;34m\u001b[0m\u001b[0m\n\u001b[0m\u001b[1;32m      3\u001b[0m \u001b[0;32mfor\u001b[0m \u001b[0miProc\u001b[0m \u001b[0;32min\u001b[0m \u001b[0mrange\u001b[0m\u001b[0;34m(\u001b[0m\u001b[0;36m1\u001b[0m\u001b[0;34m,\u001b[0m \u001b[0mnClasses\u001b[0m\u001b[0;34m)\u001b[0m\u001b[0;34m:\u001b[0m\u001b[0;34m\u001b[0m\u001b[0m\n\u001b[1;32m      4\u001b[0m     \u001b[0mbestCut\u001b[0m \u001b[0;34m=\u001b[0m \u001b[0;34m-\u001b[0m\u001b[0;36m1.\u001b[0m\u001b[0;34m\u001b[0m\u001b[0m\n\u001b[1;32m      5\u001b[0m     \u001b[0mbestSignif\u001b[0m \u001b[0;34m=\u001b[0m \u001b[0;34m-\u001b[0m\u001b[0;36m1.\u001b[0m\u001b[0;34m\u001b[0m\u001b[0m\n",
      "\u001b[0;32m/cvmfs/sft.cern.ch/lcg/views/LCG_93/x86_64-slc6-gcc62-opt/lib/ROOT.pyc\u001b[0m in \u001b[0;36m_importhook\u001b[0;34m(name, *args, **kwds)\u001b[0m\n\u001b[1;32m    316\u001b[0m       \u001b[0;32mexcept\u001b[0m \u001b[0mException\u001b[0m\u001b[0;34m:\u001b[0m\u001b[0;34m\u001b[0m\u001b[0m\n\u001b[1;32m    317\u001b[0m          \u001b[0;32mpass\u001b[0m\u001b[0;34m\u001b[0m\u001b[0m\n\u001b[0;32m--> 318\u001b[0;31m    \u001b[0;32mreturn\u001b[0m \u001b[0m_orig_ihook\u001b[0m\u001b[0;34m(\u001b[0m \u001b[0mname\u001b[0m\u001b[0;34m,\u001b[0m \u001b[0;34m*\u001b[0m\u001b[0margs\u001b[0m\u001b[0;34m,\u001b[0m \u001b[0;34m**\u001b[0m\u001b[0mkwds\u001b[0m \u001b[0;34m)\u001b[0m\u001b[0;34m\u001b[0m\u001b[0m\n\u001b[0m\u001b[1;32m    319\u001b[0m \u001b[0;34m\u001b[0m\u001b[0m\n\u001b[1;32m    320\u001b[0m \u001b[0m__builtin__\u001b[0m\u001b[0;34m.\u001b[0m\u001b[0m__import__\u001b[0m \u001b[0;34m=\u001b[0m \u001b[0m_importhook\u001b[0m\u001b[0;34m\u001b[0m\u001b[0m\n",
      "\u001b[0;31mImportError\u001b[0m: No module named diphoHelpers"
     ]
    }
   ],
   "source": [
    "#one-category optimisation\n",
    "from diphoHelpers import evalSignif\n",
    "for iProc in range(1, nClasses):\n",
    "    bestCut = -1.\n",
    "    bestSignif = -1.\n",
    "    for cut in np.arange(0.9,1.0,0.001):\n",
    "        #print 'checking cut of %1.3f'%cut\n",
    "        signif = evalSignif( diagSigHists, fullSigHists, bkgOnlyHists, iProc, int(10*nBins*cut), 10*nBins, True )\n",
    "        #print 'its signif is %1.3f'%signif\n",
    "        if signif > bestSignif:\n",
    "            bestCut = cut\n",
    "            bestSignif = signif\n",
    "    print 'optimal one-category signifiance for proc %s:'%(iProc)\n",
    "    print 'cut = %1.3f, signif = %1.2f'%(bestCut, bestSignif)\n",
    "    print"
   ]
  },
  {
   "cell_type": "code",
   "execution_count": null,
   "metadata": {},
   "outputs": [],
   "source": [
    "#check the background distributions look sensible\n",
    "checkHist = bkgOnlyHists[1].ProjectionY('tempProj', 900, 1000)\n",
    "#checkHist = bkgOnlyHists[1]\n",
    "canv = r.TCanvas()\n",
    "checkHist.Draw('hist')\n",
    "#checkHist.Draw('colz')\n",
    "canv.Print('checkHist.pdf')"
   ]
  },
  {
   "cell_type": "code",
   "execution_count": null,
   "metadata": {},
   "outputs": [],
   "source": []
  }
 ],
 "metadata": {
  "kernelspec": {
   "display_name": "Python 2",
   "language": "python",
   "name": "python2"
  },
  "language_info": {
   "codemirror_mode": {
    "name": "ipython",
    "version": 2
   },
   "file_extension": ".py",
   "mimetype": "text/x-python",
   "name": "python",
   "nbconvert_exporter": "python",
   "pygments_lexer": "ipython2",
   "version": "2.7.13"
  }
 },
 "nbformat": 4,
 "nbformat_minor": 2
}
